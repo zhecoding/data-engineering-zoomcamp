{
 "cells": [
  {
   "cell_type": "code",
   "execution_count": 13,
   "id": "6cae4a7f-183b-47ce-9289-f87e7ecb5bba",
   "metadata": {},
   "outputs": [],
   "source": [
    "import requests\n",
    "import pandas as pd\n",
    "from google.cloud import storage\n",
    "\n",
    "# Pre-reqs:\n",
    "# 1. `pip install pandas pyarrow google-cloud-storage`\n",
    "# 2. Set GOOGLE_APPLICATION_CREDENTIALS to your project/service-account key\n",
    "# 3. Set BUCKET as your bucket"
   ]
  },
  {
   "cell_type": "code",
   "execution_count": 15,
   "id": "578330f4-ff4a-4f89-8577-581c0422cf00",
   "metadata": {},
   "outputs": [],
   "source": [
    "init_url = \"https://github.com/DataTalksClub/nyc-tlc-data/releases/download/\"\n",
    "\n",
    "service = \"green\"\n",
    "year = \"2019\"\n",
    "month = \"01\"\n",
    "\n",
    "BUCKET = \"splendid-strand-448621-u2-warehouse-bucket\""
   ]
  },
  {
   "cell_type": "code",
   "execution_count": 16,
   "id": "7203d4af-2131-44c2-ab62-42397fc7d9db",
   "metadata": {},
   "outputs": [
    {
     "name": "stdout",
     "output_type": "stream",
     "text": [
      "Local: green_tripdata_2019-01.csv.gz\n"
     ]
    }
   ],
   "source": [
    "# csv file_name\n",
    "file_name = f\"{service}_tripdata_{year}-{month}.csv.gz\"\n",
    "\n",
    "# download it using requests via a pandas df\n",
    "request_url = f\"{init_url}{service}/{file_name}\"\n",
    "r = requests.get(request_url)\n",
    "open(file_name, \"wb\").write(r.content)\n",
    "print(f\"Local: {file_name}\")"
   ]
  },
  {
   "cell_type": "code",
   "execution_count": 17,
   "id": "fbae2064-79ec-4bf4-8227-cd5947283cc2",
   "metadata": {},
   "outputs": [
    {
     "name": "stdout",
     "output_type": "stream",
     "text": [
      "Parquet: green_tripdata_2019-01.parquet\n"
     ]
    }
   ],
   "source": [
    "# read it back into a parquet file\n",
    "df = pd.read_csv(file_name, compression=\"gzip\")\n",
    "file_name = file_name.replace(\".csv.gz\", \".parquet\")\n",
    "df.to_parquet(file_name, engine=\"pyarrow\")\n",
    "print(f\"Parquet: {file_name}\")"
   ]
  },
  {
   "cell_type": "code",
   "execution_count": 18,
   "id": "4d5d5eff-9e5d-43a6-8c81-74b249e73209",
   "metadata": {},
   "outputs": [],
   "source": [
    "# upload it to gcs\n",
    "client = storage.Client()\n",
    "bucket = client.bucket(BUCKET)\n",
    "blob = bucket.blob(f\"{service}/{file_name}\")\n",
    "blob.upload_from_filename(file_name)"
   ]
  }
 ],
 "metadata": {
  "kernelspec": {
   "display_name": "Python 3 (ipykernel)",
   "language": "python",
   "name": "python3"
  },
  "language_info": {
   "codemirror_mode": {
    "name": "ipython",
    "version": 3
   },
   "file_extension": ".py",
   "mimetype": "text/x-python",
   "name": "python",
   "nbconvert_exporter": "python",
   "pygments_lexer": "ipython3",
   "version": "3.12.8"
  }
 },
 "nbformat": 4,
 "nbformat_minor": 5
}
